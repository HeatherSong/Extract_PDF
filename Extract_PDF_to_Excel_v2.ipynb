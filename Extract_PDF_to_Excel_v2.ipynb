{
 "cells": [
  {
   "cell_type": "code",
   "execution_count": null,
   "id": "20a8eef1",
   "metadata": {},
   "outputs": [],
   "source": [
    "import pandas as pd\n",
    "import tabula\n",
    "import PyPDF2\n",
    "import regex as re\n",
    "from urllib3 import request\n",
    "from urllib.request import Request, urlopen\n",
    "import requests\n",
    "from requests.auth import HTTPBasicAuth\n",
    "import io\n",
    "from io import StringIO\n",
    "import os\n",
    "import xlrd\n",
    "import fitz # install using: pip install PyMuPDF"
   ]
  },
  {
   "cell_type": "code",
   "execution_count": null,
   "id": "cd8c2bfa",
   "metadata": {},
   "outputs": [],
   "source": [
    "# Magic numbers\n",
    "regular_res_len = 3"
   ]
  },
  {
   "cell_type": "code",
   "execution_count": null,
   "id": "abd9f64a",
   "metadata": {},
   "outputs": [],
   "source": [
    "def get_page_and_header(target_fst, target_lst, file):\n",
    "    doc = fitz.open(file)\n",
    "    res = {}\n",
    "    for page in doc:\n",
    "        text = page.get_text()\n",
    "        text = text.replace(\"\\n\", \"\")\n",
    "        if page.number == 0:\n",
    "            res['fund_name'] = text.strip()\n",
    "        if re.search(target_fst, text):\n",
    "            res['fst_page'] = int(str(page).split(\" \")[1])\n",
    "        elif re.search(target_lst, text):\n",
    "            res['lst_page'] = int(str(page).split(\" \")[1])\n",
    "    return res"
   ]
  },
  {
   "cell_type": "code",
   "execution_count": null,
   "id": "b5fed588",
   "metadata": {},
   "outputs": [],
   "source": [
    "# find all the file names in the target folder\n",
    "def file_names(dir_path):\n",
    "    files = []\n",
    "    for path in os.listdir(dir_path):\n",
    "        if os.path.isfile(os.path.join(dir_path, path)):\n",
    "            files.append(path)\n",
    "    return files #e.g. '20201028-nxt-im.pdf'"
   ]
  },
  {
   "cell_type": "code",
   "execution_count": null,
   "id": "4884751e",
   "metadata": {},
   "outputs": [],
   "source": [
    "dir_path = r\"C:\\Users\\yongyue.song\\Downloads\\memo_pdf\"\n",
    "target_fst = \"Appendix\\s..\\sFund\\sTerms\" #e.g. Appendix X: Fund Terms\n",
    "target_lst = \"Legal\\sDue\\sDiligence\"\n",
    "files = file_names(dir_path)\n",
    "file_paths = [os.path.join(dir_path, file_name) for file_name in files] #e.g. 'C:\\\\Users\\\\yongyue.song\\\\Downloads\\\\memo_test\\\\20201028-nxt-im.pdf'"
   ]
  },
  {
   "cell_type": "code",
   "execution_count": null,
   "id": "7556ea66",
   "metadata": {},
   "outputs": [],
   "source": [
    "# dir_path = r\"C:\\Users\\yongyue.song\\Downloads\\memo_chinese\"\n",
    "# target_fst = \"附录.+主要投资条款\" #e.g. Appendix X: Fund Terms\n",
    "# target_lst = \"咨询顾问委员会\"\n",
    "# files = file_names(dir_path)\n",
    "# file_paths = [os.path.join(dir_path, file_name) for file_name in files] #e.g. 'C:\\\\Users\\\\yongyue.song\\\\Downloads\\\\memo_test\\\\20201028-nxt-im.pdf'"
   ]
  },
  {
   "cell_type": "code",
   "execution_count": null,
   "id": "45b7ef51",
   "metadata": {},
   "outputs": [],
   "source": [
    "for i in range(len(file_paths)): \n",
    "    curr_file = file_paths[i]\n",
    "    res = get_page_and_header(target_fst, target_lst, curr_file)\n",
    "    \n",
    "    # save pdfs in a folder\n",
    "    folder_name = 'legal_terms'\n",
    "    if not os.path.isdir(folder_name):\n",
    "        os.mkdir(folder_name)\n",
    "    \n",
    "    # for those pdfs that are formatted differently \n",
    "    if len(res) != regular_res_len:\n",
    "        fund_legal_terms = pd.DataFrame([curr_file])\n",
    "        fund_legal_terms.to_excel(os.path.join(folder_name, f\"{i}_missing.xlsx\"), index=False)\n",
    "    else: \n",
    "        fst_page_num = res['fst_page'] \n",
    "        lst_page_num = res['lst_page']\n",
    "        fund_name = res['fund_name']\n",
    "        tables = tabula.read_pdf(curr_file, \n",
    "                                 pages=\"{fst}-{lst}\".format(fst = fst_page_num, lst = lst_page_num+1),\n",
    "                                 pandas_options={'header': None})\n",
    "        df = pd.concat(tables)\n",
    "\n",
    "        # add fund name to the first row of the table\n",
    "        n_df = pd.DataFrame([['Fund:', fund_name]])\n",
    "        fund_legal_terms = pd.concat([n_df, df], ignore_index=True)\n",
    "        fund_legal_terms.to_excel(os.path.join(folder_name, f\"{files[i]}.xlsx\"), index=False)\n",
    "        "
   ]
  },
  {
   "cell_type": "code",
   "execution_count": null,
   "id": "eec0cba8",
   "metadata": {},
   "outputs": [],
   "source": []
  }
 ],
 "metadata": {
  "kernelspec": {
   "display_name": "Python 3 (ipykernel)",
   "language": "python",
   "name": "python3"
  },
  "language_info": {
   "codemirror_mode": {
    "name": "ipython",
    "version": 3
   },
   "file_extension": ".py",
   "mimetype": "text/x-python",
   "name": "python",
   "nbconvert_exporter": "python",
   "pygments_lexer": "ipython3",
   "version": "3.9.12"
  }
 },
 "nbformat": 4,
 "nbformat_minor": 5
}
